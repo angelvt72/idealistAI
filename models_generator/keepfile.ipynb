{
 "cells": [
  {
   "cell_type": "code",
   "execution_count": null,
   "metadata": {},
   "outputs": [
    {
     "name": "stdout",
     "output_type": "stream",
     "text": [
      "Archivos .gitkeep creados en cada subcarpeta de: /Users/angel/Desktop/MASTER/SEGUNDO_CUATRI/ML2/idealistAI/models_generator\n"
     ]
    }
   ],
   "source": [
    "import os\n",
    "\n",
    "\n",
    "def create_gitkeep_files(base_path):\n",
    "    \"\"\"\n",
    "    Crea un archivo .gitkeep en cada carpeta y subcarpeta de base_path.\n",
    "    \"\"\"\n",
    "    for root, dirs, files in os.walk(base_path):\n",
    "        # Construir la ruta para el archivo .gitkeep en la carpeta actual\n",
    "        gitkeep_path = os.path.join(root, \".gitkeep\")\n",
    "\n",
    "        # Crear el archivo .gitkeep vacío (o sobreescribir si ya existía)\n",
    "        with open(gitkeep_path, \"w\") as f:\n",
    "            pass\n",
    "\n",
    "\n",
    "if __name__ == \"__main__\":\n",
    "    # Ajusta la ruta a la carpeta 'training' donde quieras colocar los .gitkeep\n",
    "    base_directory = (\n",
    "        \"/Users/angel/Desktop/MASTER/SEGUNDO_CUATRI/ML2/idealistAI/models_generator\"\n",
    "    )\n",
    "\n",
    "    create_gitkeep_files(base_directory)\n",
    "    print(\"Archivos .gitkeep creados en cada subcarpeta de:\", base_directory)"
   ]
  },
  {
   "cell_type": "code",
   "execution_count": null,
   "metadata": {},
   "outputs": [],
   "source": []
  }
 ],
 "metadata": {
  "kernelspec": {
   "display_name": "dl_lab",
   "language": "python",
   "name": "python3"
  },
  "language_info": {
   "codemirror_mode": {
    "name": "ipython",
    "version": 3
   },
   "file_extension": ".py",
   "mimetype": "text/x-python",
   "name": "python",
   "nbconvert_exporter": "python",
   "pygments_lexer": "ipython3",
   "version": "3.12.9"
  }
 },
 "nbformat": 4,
 "nbformat_minor": 2
}
